{
 "cells": [
  {
   "cell_type": "markdown",
   "metadata": {},
   "source": [
    "# core\n",
    "\n",
    "> Fill in a module description here"
   ]
  },
  {
   "cell_type": "code",
   "execution_count": null,
   "metadata": {},
   "outputs": [],
   "source": [
    "#| default_exp core\n"
   ]
  },
  {
   "cell_type": "code",
   "execution_count": null,
   "metadata": {},
   "outputs": [],
   "source": [
    "#|export\n",
    "from __future__ import annotations"
   ]
  },
  {
   "cell_type": "code",
   "execution_count": null,
   "metadata": {},
   "outputs": [],
   "source": [
    "#|export\n",
    "from nbdev.process import *\n",
    "from nbdev.imports import *\n",
    "from nbdev.maker import *"
   ]
  },
  {
   "cell_type": "code",
   "execution_count": null,
   "metadata": {},
   "outputs": [],
   "source": [
    "_test_file = \"00_core.ipynb\""
   ]
  },
  {
   "cell_type": "code",
   "execution_count": null,
   "metadata": {},
   "outputs": [],
   "source": [
    "#|export\n",
    "from collections import defaultdict\n",
    "from fastcore.foundation import L, ifnone\n",
    "from execnb.nbio import *\n",
    "\n",
    "class ExportTestProc:\n",
    "    \"A test proc that watches for `#|default_exp` and `#|test`\"\n",
    "    def __init__(self): self.tests = defaultdict(L)\n",
    "    def _default_exp_(self, cell, exp_to): \n",
    "        self.default_exp = f'test_{exp_to}'\n",
    "    def _test_(self, cell, exp_to=None, nm=None, tst_cls=None): \n",
    "        self.tests[self.default_exp].append(cell)"
   ]
  },
  {
   "cell_type": "code",
   "execution_count": null,
   "metadata": {},
   "outputs": [],
   "source": [
    "#|export\n",
    "_re_test = re.compile(r'#\\|\\s*test\\s*$', re.MULTILINE)\n",
    "_re_import = re.compile(r'#\\|\\s*test\\s*import\\s*$', re.MULTILINE)\n",
    "_tab = \"    \""
   ]
  },
  {
   "cell_type": "code",
   "execution_count": null,
   "metadata": {},
   "outputs": [],
   "source": [
    "#|export\n",
    "def get_directive(cell, key, default=None): \n",
    "    \"Extract a top level directive from `cell`\"\n",
    "    return cell.directives_.get(key, default)\n",
    "\n",
    "def _is_test_cell(cell): return cell.cell_type == \"code\" and get_directive(cell, \"test\")"
   ]
  },
  {
   "cell_type": "code",
   "execution_count": null,
   "metadata": {},
   "outputs": [],
   "source": [
    "def _mark_test(s):\n",
    "    ft = exec_new(\"import fastcore.test as ft\")[\"ft\"].__all__\n",
    "    kinds = [(o,f'ft.{o}') for o in ft if o.startswith(\"test_\")]\n",
    "    for k,v in kinds: s = s.replace(k,v)\n",
    "    return s"
   ]
  },
  {
   "cell_type": "code",
   "execution_count": null,
   "metadata": {},
   "outputs": [],
   "source": [
    "#|export\n",
    "def convert_pytest(cell, unittest=False):\n",
    "    \"Wraps cell contents into a pytest function\"\n",
    "    directive = get_directive(cell, \"test\")\n",
    "    if _is_test_cell(cell):\n",
    "        if \"import\" not in directive and \"case\" not in directive:\n",
    "            content = '\\n'.join([f\"{_tab}{c}\" for c in cell.source.split(\"\\n\")])\n",
    "            content = _mark_test(content)\n",
    "            if unittest: cell.source = f'def test_{directive[0]}(self):\\n{content}'\n",
    "            else: cell.source = f'def test_{directive[0]}():\\n{content}'\n",
    "        else:\n",
    "            cell.source = cell.source.replace(\"from fastcore.test import *\", \"import fastcore.test as ft\")"
   ]
  },
  {
   "cell_type": "code",
   "execution_count": null,
   "metadata": {},
   "outputs": [],
   "source": [
    "#|export\n",
    "_re_defaultexp = re.compile(r'^\\s*#\\|\\s*default_exp\\s+(\\S+)', flags=re.MULTILINE)\n",
    "def _default_exp(nb):\n",
    "    \"get the default_exp from a notebook\"\n",
    "    code_src = nb.cells.filter(lambda x: x.cell_type == 'code').attrgot('source')\n",
    "    default_exp = first(code_src.filter().map(_re_defaultexp.search).filter())\n",
    "    return default_exp.group(1) if default_exp else None\n",
    "    "
   ]
  },
  {
   "cell_type": "code",
   "execution_count": null,
   "metadata": {},
   "outputs": [],
   "source": [
    "#|export\n",
    "def construct_imports(nb, unittest=False):\n",
    "    \"Generates the test imports for the notebook\"\n",
    "    libname = get_config().lib_name\n",
    "    exp = _default_exp(nb)\n",
    "    imports = ['#| test import\\n', f'from {libname}.{exp} import *\\n']\n",
    "    if unittest: imports += ['import unittest']\n",
    "    nb.cells.insert(1, mk_cell(imports))"
   ]
  },
  {
   "cell_type": "code",
   "execution_count": null,
   "metadata": {},
   "outputs": [],
   "source": [
    "#|export\n",
    "def create_test_modules(path, dest, debug=True, mod_maker=ModuleMaker, unittest=False):\n",
    "    exp = ExportTestProc()\n",
    "    class insert_warning(Processor):\n",
    "        content = \"\"\n",
    "        def begin(self): self.nb.cells.insert(1, mk_cell(self.content, 'markdown'))\n",
    "    procs = [exp, functools.partial(convert_pytest, unittest=unittest), insert_warning]\n",
    "    if unittest: procs.append(convert_unittest)\n",
    "\n",
    "    nb = NBProcessor(path, procs, debug=False)\n",
    "    nb.process()\n",
    "    for i,(mod,cells) in enumerate(exp.tests.items()):\n",
    "        mm = mod_maker(dest=dest, name=exp.default_exp, nb_path=path, is_new=i==0, parse=False)\n",
    "        mm.make(cells)"
   ]
  },
  {
   "cell_type": "code",
   "execution_count": null,
   "metadata": {},
   "outputs": [],
   "source": [
    "#|eval: false\n",
    "create_test_modules(_test_file, \"tmp\")"
   ]
  },
  {
   "cell_type": "code",
   "execution_count": null,
   "metadata": {},
   "outputs": [
    {
     "name": "stdout",
     "output_type": "stream",
     "text": [
      "\u001b[1m============================= test session starts ==============================\u001b[0m\r\n",
      "platform linux -- Python 3.8.10, pytest-7.2.1, pluggy-1.0.0\r\n",
      "rootdir: /home/ncnella/ohtuprojekti/nbdev_testing/nbdev-hello-world\r\n",
      "plugins: anyio-3.6.2\r\n",
      "\u001b[1mcollecting ... \u001b[0m\u001b[1m\r",
      "collected 1 item                                                               \u001b[0m\r\n",
      "\r\n",
      "tmp/test_core.py \u001b[31mF\u001b[0m\u001b[31m                                                       [100%]\u001b[0m\r\n",
      "\r\n",
      "=================================== FAILURES ===================================\r\n",
      "\u001b[31m\u001b[1m________________________________ test_say_hello ________________________________\u001b[0m\r\n",
      "\r\n",
      "    \u001b[94mdef\u001b[39;49;00m \u001b[92mtest_say_hello\u001b[39;49;00m():\u001b[90m\u001b[39;49;00m\r\n",
      ">       ft.test_eq(say_hello(\u001b[33m'\u001b[39;49;00m\u001b[33mIsaac\u001b[39;49;00m\u001b[33m'\u001b[39;49;00m), \u001b[33m'\u001b[39;49;00m\u001b[33mHello Isaac!\u001b[39;49;00m\u001b[33m'\u001b[39;49;00m)\u001b[90m\u001b[39;49;00m\r\n",
      "\u001b[1m\u001b[31mE       NameError: name 'say_hello' is not defined\u001b[0m\r\n",
      "\r\n",
      "\u001b[1m\u001b[31mtmp/test_core.py\u001b[0m:11: NameError\r\n",
      "\u001b[36m\u001b[1m=========================== short test summary info ============================\u001b[0m\r\n",
      "\u001b[31mFAILED\u001b[0m tmp/test_core.py::\u001b[1mtest_say_hello\u001b[0m - NameError: name 'say_hello' is not defined\r\n",
      "\u001b[31m============================== \u001b[31m\u001b[1m1 failed\u001b[0m\u001b[31m in 0.04s\u001b[0m\u001b[31m ===============================\u001b[0m\r\n"
     ]
    }
   ],
   "source": [
    "!pytest tmp/"
   ]
  },
  {
   "cell_type": "code",
   "execution_count": null,
   "metadata": {},
   "outputs": [],
   "source": [
    "#| hide\n",
    "import nbdev; nbdev.nbdev_export()"
   ]
  },
  {
   "cell_type": "code",
   "execution_count": null,
   "metadata": {},
   "outputs": [],
   "source": []
  },
  {
   "cell_type": "code",
   "execution_count": null,
   "metadata": {},
   "outputs": [],
   "source": []
  }
 ],
 "metadata": {
  "kernelspec": {
   "display_name": "Python 3 (ipykernel)",
   "language": "python",
   "name": "python3"
  }
 },
 "nbformat": 4,
 "nbformat_minor": 4
}
